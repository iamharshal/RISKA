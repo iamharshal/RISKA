{
 "cells": [
  {
   "cell_type": "markdown",
   "metadata": {},
   "source": [
    "# The LogCA model\n",
    "\n",
    "This notebook constructs the [LogCA model](https://dl.acm.org/doi/pdf/10.1145/3140659.3080216) to analytically model simple host-accelerator interaction\n",
    "\n",
    "## LogCA parameters\n",
    "\n",
    "| Parameter                  | Description                                       | Units |\n",
    "|:---------------------------|:--------------------------------------------------|-------|\n",
    "|$L$ - Latency             | Cycles to move data from the host to the accelerator across the interface, including the cycles data spends in the caches or memory | Cycles |\n",
    "|$o$ - Overhead            | Cycles the host spends in setting up the algorithm | Cycles |\n",
    "|$g$ - Granularity         | Size of the offloaded data | Bytes |\n",
    "|$C$ - Computational Index | Cycles the host spends per byte of data | Cycles/Byte |\n",
    "|$A$ - Acceleration        | The peak speedup of an accelerator | N/A |\n",
    "\n",
    "### Other parameters:\n",
    "- ```complexity_power_factor``` ($ \\beta $) is the power factor of the complexity of the alogrithm as a function of granularity as per the model.\n",
    "- ```is_latency_granularity_depend``` indicates whether the latency is dependant on granularity."
   ]
  },
  {
   "cell_type": "markdown",
   "metadata": {},
   "source": [
    "Compute the speedup for given LogCA parameters. "
   ]
  },
  {
   "cell_type": "code",
   "execution_count": 53,
   "metadata": {},
   "outputs": [],
   "source": [
    "def speedup(latency, \n",
    "            overhead, \n",
    "            granularity, \n",
    "            computational_index, \n",
    "            acceleration, \n",
    "            complexity_power_factor, \n",
    "            is_latency_granularity_depend):\n",
    "    \n",
    "    host_comp_index = computational_index * (granularity ** complexity_power_factor)\n",
    "    \n",
    "    if(is_latency_granularity_depend):\n",
    "        latency = latency * granularity\n",
    "            \n",
    "    return host_comp_index / (latency + overhead + (host_comp_index / acceleration))"
   ]
  },
  {
   "cell_type": "markdown",
   "metadata": {},
   "source": [
    "Compute break-even granularity $ g_1 $. It is the granularity required to achieve a speedup of 1."
   ]
  },
  {
   "cell_type": "code",
   "execution_count": 54,
   "metadata": {},
   "outputs": [],
   "source": [
    "def break_even_granularity(latency, \n",
    "                           overhead, \n",
    "                           computational_index,\n",
    "                           acceleration,\n",
    "                           complexity_power_factor,\n",
    "                           is_latency_granularity_depend):\n",
    "    \n",
    "    if(is_latency_granularity_depend):\n",
    "        return ((computational_index * (complexity_power_factor - 1) * (acceleration - 1) + acceleration * overhead) / \\\n",
    "               (computational_index * complexity_power_factor * (acceleration - 1) - acceleration * latency))\n",
    "    \n",
    "    return ((acceleration / (acceleration - 1)) * ((overhead + latency) / computational_index)) ** (1 / complexity_power_factor)"
   ]
  },
  {
   "cell_type": "markdown",
   "metadata": {},
   "source": [
    "Compute half-speedup granularity $ g_{A/2} $."
   ]
  },
  {
   "cell_type": "code",
   "execution_count": 55,
   "metadata": {},
   "outputs": [],
   "source": [
    "def half_speedup_granularity(latency, \n",
    "                             overhead, \n",
    "                             computational_index,\n",
    "                             acceleration, \n",
    "                             complexity_power_factor,\n",
    "                             is_latency_granularity_depend):\n",
    "    \n",
    "    if(is_latency_granularity_depend):\n",
    "        return ((computational_index * (complexity_power_factor - 1) + acceleration * overhead) / \\\n",
    "               (computational_index * complexity_power_factor - acceleration * latency))\n",
    "    \n",
    "    return (acceleration * ((overhead + latency) / computational_index)) ** (1 / complexity_power_factor)\n",
    "\n",
    "def half_speedup_granularity_from_beg(be_granularity,\n",
    "                             acceleration,\n",
    "                             complexity_power_factor):\n",
    "    \n",
    "    return ((acceleration - 1) ** (1 / complexity_power_factor)) * be_granularity"
   ]
  },
  {
   "cell_type": "markdown",
   "metadata": {},
   "source": [
    "### Example system\n",
    "\n",
    "The below parameters model an APU with FFT and APU kernels as described in the paper."
   ]
  },
  {
   "cell_type": "code",
   "execution_count": 66,
   "metadata": {},
   "outputs": [
    {
     "name": "stdout",
     "output_type": "stream",
     "text": [
      "FFT kernel on APU: \n",
      "Break-even granularity:  148653.1099524985\n",
      "Speedup achieved with accelerator at break-even granularity:  0.9999999999999999\n",
      "Half-speedup granularity:  661657.7058444184\n",
      "Speedup achieved with accelerator at half-speedup granularity:  3.5000000000000004\n",
      "\n",
      "AES kernel on APU: \n",
      "Break-even granularity:  2981895.633652822\n",
      "Speedup achieved with accelerator at break-even granularity:  1.0\n",
      "Half-speedup granularity:  40579710.14492754\n",
      "Speedup achieved with accelerator at half-speedup granularity:  3.5\n"
     ]
    }
   ],
   "source": [
    "latency = 15\n",
    "overhead = 4 * 10**8\n",
    "acceleration = 7\n",
    "\n",
    "# Speedup achieved with accelerator at break-even granularity must be 1\n",
    "# Speedup achieved with accelerator at half-speedup granularity must be A/2 = 3.5\n",
    "\n",
    "# FFT\n",
    "computational_index_fft = 290\n",
    "complexity_power_factor_fft = 1.2\n",
    "\n",
    "beg_fft = break_even_granularity(latency, overhead, computational_index_fft, acceleration, complexity_power_factor_fft, False)\n",
    "hsg_fft = half_speedup_granularity(latency, overhead, computational_index_fft, acceleration, complexity_power_factor_fft, False)\n",
    "\n",
    "print(\"FFT kernel on APU: \")\n",
    "print(\"Break-even granularity: \", beg_fft)\n",
    "print(\"Speedup achieved with accelerator at break-even granularity: \", speedup(latency, overhead, beg_fft, computational_index_fft, acceleration, complexity_power_factor_fft, False))\n",
    "print(\"Half-speedup granularity: \", hsg_fft)\n",
    "print(\"Speedup achieved with accelerator at half-speedup granularity: \", speedup(latency, overhead, hsg_fft, computational_index_fft, acceleration, complexity_power_factor_fft, False)) \n",
    "\n",
    "# AES\n",
    "computational_index_aes = 174\n",
    "complexity_power_factor_aes = 1\n",
    "\n",
    "beg_aes = break_even_granularity(latency, overhead, computational_index_aes, acceleration, complexity_power_factor_aes, True)\n",
    "hsg_aes = half_speedup_granularity(latency, overhead, computational_index_aes, acceleration, complexity_power_factor_aes, True)\n",
    "\n",
    "print(\"\\nAES kernel on APU: \")\n",
    "print(\"Break-even granularity: \", beg_aes)\n",
    "print(\"Speedup achieved with accelerator at break-even granularity: \", speedup(latency, overhead, beg_aes, computational_index_aes, acceleration, complexity_power_factor_aes, True))\n",
    "print(\"Half-speedup granularity: \", hsg_aes)\n",
    "print(\"Speedup achieved with accelerator at half-speedup granularity: \", speedup(latency, overhead, hsg_aes, computational_index_aes, acceleration, complexity_power_factor_aes, True)) "
   ]
  },
  {
   "cell_type": "markdown",
   "metadata": {},
   "source": [
    "A simple experimental model to model the performance of W-projection gridding algorithm."
   ]
  },
  {
   "cell_type": "code",
   "execution_count": 57,
   "metadata": {},
   "outputs": [
    {
     "name": "stdout",
     "output_type": "stream",
     "text": [
      "cpu_gridding:  7.430678297008853\n",
      "discrete_accelerated_gridding:  2.8401875749987084\n",
      "integrated_accelerated_gridding:  0.8432921769854147\n"
     ]
    }
   ],
   "source": [
    "import time\n",
    "\n",
    "I = 10\n",
    "J = 10\n",
    "K = 10\n",
    "L = 2\n",
    "\n",
    "(DISCRETE, INTEGRATED) = (True, False)\n",
    "\n",
    "def __gridding_model__(in_latency, processing_delay, out_latency):\n",
    "    # Adjust the latency and delay numbers according to SDP Memo\n",
    "    # Please add more loops as necessary\n",
    "    time.sleep(in_latency)\n",
    "    m = 0\n",
    "    for i in range(1,I):\n",
    "        for j in range(1,J):\n",
    "            for k in range(1,K):\n",
    "                for l in range (1,L):\n",
    "                    time.sleep(processing_delay)\n",
    "                    m+=1\n",
    "    time.sleep(out_latency)\n",
    "    return m\n",
    "\n",
    "def discrete_accelerated_gridding():\n",
    "    # in_latency is high, \n",
    "    # processing delay is low (as CPUs are slower than accelerators), \n",
    "    # out_latency is high \n",
    "\n",
    "    return __gridding_model__(1.0, 0.001, 1.0)\n",
    "    \n",
    "def integrated_accelerated_gridding():\n",
    "    # in_latency is low, \n",
    "    # processing delay is low (as CPUs are slower than accelerators), \n",
    "    # out_latency is low\n",
    "    return __gridding_model__(0.001, 0.001, 0.001)\n",
    "\n",
    "def accelerated_gridding(mode):\n",
    "    if mode == DISCRETE:\n",
    "        return discrete_accelerated_gridding()\n",
    "    else:\n",
    "        return integrated_accelerated_gridding()\n",
    "\n",
    "def cpu_gridding():\n",
    "    # in_latency is low, \n",
    "    # processing delay is high (as CPUs are slower than accelerators), \n",
    "    # out_latency is low\n",
    "   return __gridding_model__(0.001, 0.01, 0.001) \n",
    "\n",
    "\n",
    "def main():\n",
    "    start = time.perf_counter()\n",
    "    cpu_gridding()\n",
    "    print(\"cpu_gridding: \", time.perf_counter() - start)\n",
    "\n",
    "    start = time.perf_counter()\n",
    "    discrete_accelerated_gridding()\n",
    "    print(\"discrete_accelerated_gridding: \", time.perf_counter() - start)\n",
    "\n",
    "    start = time.perf_counter()\n",
    "    integrated_accelerated_gridding()\n",
    "    print(\"integrated_accelerated_gridding: \", time.perf_counter() - start)\n",
    "\n",
    "main()\n",
    "\n"
   ]
  }
 ],
 "metadata": {
  "kernelspec": {
   "display_name": "Python 3",
   "language": "python",
   "name": "python3"
  },
  "language_info": {
   "codemirror_mode": {
    "name": "ipython",
    "version": 3
   },
   "file_extension": ".py",
   "mimetype": "text/x-python",
   "name": "python",
   "nbconvert_exporter": "python",
   "pygments_lexer": "ipython3",
   "version": "3.8.5"
  }
 },
 "nbformat": 4,
 "nbformat_minor": 4
}
