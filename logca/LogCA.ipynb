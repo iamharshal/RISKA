{
 "cells": [
  {
   "cell_type": "markdown",
   "metadata": {},
   "source": [
    "# The LogCA model\n",
    "\n",
    "This notebook constructs the [LogCA model](https://dl.acm.org/doi/pdf/10.1145/3140659.3080216) to analytically model simple host-accelerator interaction\n",
    "\n",
    "## LogCA parameters\n",
    "\n",
    "| Parameter                  | Description                                       | Units |\n",
    "|:---------------------------|:--------------------------------------------------|-------|\n",
    "|$L$ - Latency             | Cycles to move data from the host to the accelerator across the interface, including the cycles data spends in the caches or memory | Cycles |\n",
    "|$o$ - Overhead            | Cycles the host spends in setting up the algorithm | Cycles |\n",
    "|$g$ - Granularity         | Size of the offloaded data | Bytes |\n",
    "|$C$ - Computational Index | Cycles the host spends per byte of data | Cycles/Byte |\n",
    "|$A$ - Acceleration        | The peak speedup of an accelerator | N/A |\n",
    "\n",
    "### Other parameters:\n",
    "- ```complexity_power_factor``` ($ \\beta $) is the power factor of the complexity of the alogrithm as a function of granularity as per the model.\n",
    "- ```is_latency_granularity_depend``` indicates whether the latency is dependant on granularity."
   ]
  },
  {
   "cell_type": "code",
   "execution_count": 156,
   "metadata": {},
   "outputs": [],
   "source": [
    "import matplotlib\n",
    "import matplotlib.pyplot as plt\n",
    "import numpy as np\n",
    "from dataclasses import dataclass\n",
    "\n",
    "@dataclass\n",
    "class Parameters:\n",
    "    latency: int\n",
    "    overhead: int\n",
    "    computational_index: float\n",
    "    acceleration: int\n",
    "    complexity_power_factor: float\n",
    "    is_latency_granularity_depend: bool"
   ]
  },
  {
   "cell_type": "markdown",
   "metadata": {},
   "source": [
    "Compute the speedup for given LogCA parameters. "
   ]
  },
  {
   "cell_type": "code",
   "execution_count": 103,
   "metadata": {},
   "outputs": [],
   "source": [
    "def speedup(p, granularity):\n",
    "    p.host_comp_index = p.computational_index * (granularity ** p.complexity_power_factor)\n",
    "    actual_latency = p.latency\n",
    "    \n",
    "    if(p.is_latency_granularity_depend):\n",
    "        actual_latency = p.latency * granularity\n",
    "            \n",
    "    return p.host_comp_index / (actual_latency + p.overhead + (p.host_comp_index / p.acceleration))"
   ]
  },
  {
   "cell_type": "markdown",
   "metadata": {},
   "source": [
    "Compute break-even granularity $ g_1 $. It is the granularity required to achieve a speedup of 1."
   ]
  },
  {
   "cell_type": "code",
   "execution_count": 104,
   "metadata": {},
   "outputs": [],
   "source": [
    "def break_even_granularity(p):\n",
    "    \n",
    "    if(p.is_latency_granularity_depend):\n",
    "        return ((p.computational_index * (p.complexity_power_factor - 1) * (p.acceleration - 1) + p.acceleration * p.overhead) / \\\n",
    "               (p.computational_index * p.complexity_power_factor * (p.acceleration - 1) - p.acceleration * p.latency))\n",
    "    \n",
    "    return ((p.acceleration / (p.acceleration - 1)) * ((p.overhead + p.latency) / p.computational_index)) ** (1 / p.complexity_power_factor)"
   ]
  },
  {
   "cell_type": "markdown",
   "metadata": {},
   "source": [
    "Compute half-speedup granularity $ g_{A/2} $."
   ]
  },
  {
   "cell_type": "code",
   "execution_count": 105,
   "metadata": {},
   "outputs": [],
   "source": [
    "def half_speedup_granularity(p):\n",
    "    \n",
    "    if(p.is_latency_granularity_depend):\n",
    "        return ((p.computational_index * (p.complexity_power_factor - 1) + p.acceleration * p.overhead) / \\\n",
    "               (p.computational_index * p.complexity_power_factor - p.acceleration * p.latency))\n",
    "    \n",
    "    return (p.acceleration * ((p.overhead + p.latency) / p.computational_index)) ** (1 / p.complexity_power_factor)\n",
    "\n",
    "def half_speedup_granularity_from_beg(be_granularity,\n",
    "                             acceleration,\n",
    "                             complexity_power_factor):\n",
    "    \n",
    "    return ((acceleration - 1) ** (1 / complexity_power_factor)) * be_granularity"
   ]
  },
  {
   "cell_type": "markdown",
   "metadata": {},
   "source": [
    "### Example system\n",
    "\n",
    "The below parameters model an APU with FFT and AES kernels as described in the paper."
   ]
  },
  {
   "cell_type": "code",
   "execution_count": 106,
   "metadata": {},
   "outputs": [
    {
     "name": "stdout",
     "output_type": "stream",
     "text": [
      "FFT kernel on APU: \n",
      "Break-even granularity:  148653.1099524985\n",
      "Speedup achieved with accelerator at break-even granularity:  0.9999999999999999\n",
      "Half-speedup granularity:  661657.7058444184\n",
      "Speedup achieved with accelerator at half-speedup granularity:  3.5000000000000004\n",
      "\n",
      "AES kernel on APU: \n",
      "Break-even granularity:  2981895.633652822\n",
      "Speedup achieved with accelerator at break-even granularity:  1.0\n",
      "Half-speedup granularity:  40579710.14492754\n",
      "Speedup achieved with accelerator at half-speedup granularity:  3.5\n"
     ]
    }
   ],
   "source": [
    "latency_apu = 15\n",
    "overhead_apu = 4 * 10**8\n",
    "acceleration_apu = 7\n",
    "\n",
    "# Speedup achieved with accelerator at break-even granularity must be 1\n",
    "# Speedup achieved with accelerator at half-speedup granularity must be A/2 = 3.5\n",
    "\n",
    "# FFT\n",
    "computational_index_fft = 290\n",
    "complexity_power_factor_fft = 1.2\n",
    "\n",
    "params_apu_fft = Parameters(latency=latency_apu, \n",
    "                            overhead=overhead_apu, \n",
    "                            computational_index=290, \n",
    "                            acceleration=acceleration_apu, \n",
    "                            complexity_power_factor=1.2, \n",
    "                            is_latency_granularity_depend=False)\n",
    "\n",
    "beg_apu_fft = break_even_granularity(params_apu_fft)\n",
    "hsg_apu_fft = half_speedup_granularity(params_apu_fft)\n",
    "\n",
    "print(\"FFT kernel on APU: \")\n",
    "print(\"Break-even granularity: \", beg_apu_fft)\n",
    "print(\"Speedup achieved with accelerator at break-even granularity: \", speedup(params_apu_fft, beg_apu_fft))\n",
    "print(\"Half-speedup granularity: \", hsg_apu_fft)\n",
    "print(\"Speedup achieved with accelerator at half-speedup granularity: \", speedup(params_apu_fft, hsg_apu_fft)) \n",
    "\n",
    "# AES\n",
    "params_apu_aes = Parameters(latency=latency_apu, \n",
    "                            overhead=overhead_apu, \n",
    "                            computational_index=174, \n",
    "                            acceleration=acceleration_apu, \n",
    "                            complexity_power_factor=1, \n",
    "                            is_latency_granularity_depend=True)\n",
    "\n",
    "beg_apu_aes = break_even_granularity(params_apu_aes)\n",
    "hsg_apu_aes = half_speedup_granularity(params_apu_aes)\n",
    "\n",
    "print(\"\\nAES kernel on APU: \")\n",
    "print(\"Break-even granularity: \", beg_apu_aes)\n",
    "print(\"Speedup achieved with accelerator at break-even granularity: \", speedup(params_apu_aes, beg_apu_aes))\n",
    "print(\"Half-speedup granularity: \", hsg_apu_aes)\n",
    "print(\"Speedup achieved with accelerator at half-speedup granularity: \", speedup(params_apu_aes, hsg_apu_aes)) "
   ]
  },
  {
   "cell_type": "markdown",
   "metadata": {},
   "source": [
    "## Gridding comparison experiment\n",
    "\n",
    "A comparison experiment between the CPU + GPU system from SDP Memo 72 (and others) and a simple integrated SoC architecture with a DSA for the W-projection gridding kernel.\n",
    "\n",
    "Need to compare between maximum speedups and break-even and half-speedup granularities\n",
    "\n",
    "### Kernel parameters\n",
    "Convert complexity in terms of number of elements $n$, $\\mathcal{O}{(n^{x})}$ to in terms of granularity $g$, $\\mathcal{O}{(g^{\\beta})}$\n",
    "\n",
    "- Complexity power factor ($\\beta$) = \n",
    "\n",
    "### LogCA parameters\n",
    "\n",
    "\n",
    "#### CPU + GPU model\n",
    "- Latency = \n",
    "- Overhead =\n",
    "- Computational index = \n",
    "- Acceleration =\n",
    "- Is latency dependent on granularity? - \n",
    "\n",
    "\n",
    "#### SoC model\n",
    "- Latency = \n",
    "- Overhead =\n",
    "- Computational index = \n",
    "- Acceleration =\n",
    "- Is latency dependent on granularity? - \n"
   ]
  },
  {
   "cell_type": "code",
   "execution_count": null,
   "metadata": {},
   "outputs": [],
   "source": []
  },
  {
   "cell_type": "markdown",
   "metadata": {},
   "source": [
    "## Visualization\n",
    "\n",
    "Generate granularity vs speedup plots for different experiments.\n",
    "\n",
    "TODO:\n",
    "- [ ] Check for validity of break-even and half-speed granularities (FFT example in paper)\n",
    "- [ ] Add proper coloring for plots\n",
    "- [ ] Decrease axis padding"
   ]
  },
  {
   "cell_type": "code",
   "execution_count": 236,
   "metadata": {},
   "outputs": [
    {
     "data": {
      "image/png": "[encoded data removed]",
      "text/plain": [
       "<Figure size 960x720 with 1 Axes>"
      ]
     },
     "metadata": {
      "needs_background": "dark"
     },
     "output_type": "display_data"
    }
   ],
   "source": [
    "def plot_granularity_to_speedup(params):\n",
    "    # To view in jupyter dark mode\n",
    "    dark_mode = True\n",
    "    \n",
    "    # Model constants\n",
    "    acc = params.acceleration\n",
    "    c_by_l = params.computational_index/params.latency\n",
    "    beg = break_even_granularity(params)\n",
    "    hsg = half_speedup_granularity(params)\n",
    "\n",
    "    # Granularity values and tick formatting\n",
    "    grans = np.logspace(4, 25, 22, endpoint=True, base=2)\n",
    "    x_format = {16:'16', 128:'128', 1000:'1K', 8000:'8K', 64000:'64K', 512000:'512K', 4000000:'4M', 32000000:'32M'}\n",
    "    x_format_keys = list(x_format.keys()) \n",
    "\n",
    "    # Function to draw projections from single point to axis\n",
    "    def draw_projections(plt, xmin, ymin, xmax, ymax):\n",
    "        plt.plot([xmin, xmax], [ymax, ymax], color = 'black', linestyle = '--', linewidth = 1)\n",
    "        plt.plot([xmax, xmax], [ymin, ymax], color = 'black', linestyle = '--', linewidth = 1)\n",
    "\n",
    "    # Figure properties\n",
    "    fig = plt.figure(figsize=(8,6), dpi=120)\n",
    "    ax = fig.add_subplot(111)\n",
    "    \n",
    "    # Granularity - speedup plot\n",
    "    plt.plot(grans, speedup(params, grans))\n",
    "\n",
    "    # Acceleration line\n",
    "    plt.plot([grans[0], grans[len(grans) - 1]], [acc, acc])\n",
    "    plt.annotate('$A$', (128, acc), textcoords=\"offset points\", xytext=(-10,-10), ha='center')\n",
    "\n",
    "    # C/L line\n",
    "    plt.plot([grans[0], grans[len(grans) - 1]], [c_by_l, c_by_l])\n",
    "    plt.annotate('$C/L$', (128, c_by_l), textcoords=\"offset points\", xytext=(-10,10), ha='center')\n",
    "\n",
    "    # Break-even granularity\n",
    "    plt.plot(beg, 1, 'bo')\n",
    "    plt.annotate('$g_1$', (beg, 1), textcoords=\"offset points\", xytext=(20,0), ha='center')\n",
    "    draw_projections(plt, grans[0], 0, beg, 1)\n",
    "\n",
    "    # Half-speedup granularity\n",
    "    plt.plot(hsg, acc/2, 'bo')\n",
    "    plt.annotate('$g_{A/2}$', (hsg, acc/2), textcoords=\"offset points\", xytext=(20,0), ha='center')\n",
    "    draw_projections(plt, grans[0], 0, hsg, acc/2)\n",
    "\n",
    "    # Axis labels, scales and grid\n",
    "    plt.xlabel('Granularities')\n",
    "    plt.ylabel('Speedup')\n",
    "    plt.xscale('symlog', base=2)\n",
    "    plt.yscale('symlog', linthresh=0.1)\n",
    "    plt.grid(axis='y', linestyle = '--', linewidth = 0.5)\n",
    "\n",
    "    if(dark_mode):\n",
    "        ax.xaxis.label.set_color('white')\n",
    "        ax.yaxis.label.set_color('white')\n",
    "        ax.tick_params(axis='x', colors='white')\n",
    "        ax.tick_params(axis='y', colors='white')\n",
    "\n",
    "    # y-axis tick formatting\n",
    "    ax.set_yticks([0.1, 1, 10, 100])\n",
    "    ax.get_yaxis().set_major_formatter(matplotlib.ticker.ScalarFormatter())\n",
    "\n",
    "    # x-axis tick formatting\n",
    "    ax.set_xticks(x_format_keys)\n",
    "    def x_format_func(value, tick_number):\n",
    "        return x_format[value]\n",
    "    ax.xaxis.set_major_formatter(plt.FuncFormatter(x_format_func))\n",
    "\n",
    "    plt.show()\n",
    "    \n",
    "params_apu_aes = Parameters(latency=latency_apu, \n",
    "                            overhead=overhead_apu, \n",
    "                            computational_index=174, \n",
    "                            acceleration=acceleration_apu, \n",
    "                            complexity_power_factor=1, \n",
    "                            is_latency_granularity_depend=False)\n",
    "    \n",
    "plot_granularity_to_speedup(params_apu_aes)"
   ]
  },
  {
   "cell_type": "markdown",
   "metadata": {},
   "source": [
    "A simple experimental model to model the performance of W-projection gridding algorithm."
   ]
  },
  {
   "cell_type": "code",
   "execution_count": 107,
   "metadata": {},
   "outputs": [
    {
     "name": "stdout",
     "output_type": "stream",
     "text": [
      "cpu_gridding:  7.421209377003834\n",
      "discrete_accelerated_gridding:  2.8324038540013134\n",
      "integrated_accelerated_gridding:  0.8357478969846852\n"
     ]
    }
   ],
   "source": [
    "import time\n",
    "\n",
    "I = 10\n",
    "J = 10\n",
    "K = 10\n",
    "L = 2\n",
    "\n",
    "(DISCRETE, INTEGRATED) = (True, False)\n",
    "\n",
    "def __gridding_model__(in_latency, processing_delay, out_latency):\n",
    "    # Adjust the latency and delay numbers according to SDP Memo\n",
    "    # Please add more loops as necessary\n",
    "    time.sleep(in_latency)\n",
    "    m = 0\n",
    "    for i in range(1,I):\n",
    "        for j in range(1,J):\n",
    "            for k in range(1,K):\n",
    "                for l in range (1,L):\n",
    "                    time.sleep(processing_delay)\n",
    "                    m+=1\n",
    "    time.sleep(out_latency)\n",
    "    return m\n",
    "\n",
    "def discrete_accelerated_gridding():\n",
    "    # in_latency is high, \n",
    "    # processing delay is low (as CPUs are slower than accelerators), \n",
    "    # out_latency is high \n",
    "\n",
    "    return __gridding_model__(1.0, 0.001, 1.0)\n",
    "    \n",
    "def integrated_accelerated_gridding():\n",
    "    # in_latency is low, \n",
    "    # processing delay is low (as CPUs are slower than accelerators), \n",
    "    # out_latency is low\n",
    "    return __gridding_model__(0.001, 0.001, 0.001)\n",
    "\n",
    "def accelerated_gridding(mode):\n",
    "    if mode == DISCRETE:\n",
    "        return discrete_accelerated_gridding()\n",
    "    else:\n",
    "        return integrated_accelerated_gridding()\n",
    "\n",
    "def cpu_gridding():\n",
    "    # in_latency is low, \n",
    "    # processing delay is high (as CPUs are slower than accelerators), \n",
    "    # out_latency is low\n",
    "   return __gridding_model__(0.001, 0.01, 0.001) \n",
    "\n",
    "\n",
    "def main():\n",
    "    start = time.perf_counter()\n",
    "    cpu_gridding()\n",
    "    print(\"cpu_gridding: \", time.perf_counter() - start)\n",
    "\n",
    "    start = time.perf_counter()\n",
    "    discrete_accelerated_gridding()\n",
    "    print(\"discrete_accelerated_gridding: \", time.perf_counter() - start)\n",
    "\n",
    "    start = time.perf_counter()\n",
    "    integrated_accelerated_gridding()\n",
    "    print(\"integrated_accelerated_gridding: \", time.perf_counter() - start)\n",
    "\n",
    "main()\n",
    "\n"
   ]
  }
 ],
 "metadata": {
  "kernelspec": {
   "display_name": "Python 3",
   "language": "python",
   "name": "python3"
  },
  "language_info": {
   "codemirror_mode": {
    "name": "ipython",
    "version": 3
   },
   "file_extension": ".py",
   "mimetype": "text/x-python",
   "name": "python",
   "nbconvert_exporter": "python",
   "pygments_lexer": "ipython3",
   "version": "3.8.5"
  }
 },
 "nbformat": 4,
 "nbformat_minor": 4
}
