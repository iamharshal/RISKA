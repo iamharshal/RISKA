{
 "cells": [
  {
   "cell_type": "markdown",
   "id": "dc25624c",
   "metadata": {},
   "source": [
    "## Gridding comparison experiment\n",
    "\n",
    "A comparison experiment between the CPU + GPU system from SDP Memo 72 (and others) and a simple integrated SoC architecture with a DSA for the W-projection gridding kernel.\n",
    "\n",
    "Need to compare between maximum speedups and break-even and half-speedup granularities\n",
    "\n",
    "### Kernel parameters\n",
    "Convert complexity in terms of number of elements $n$, $\\mathcal{O}{(n^{x})}$ to in terms of granularity $g$, $\\mathcal{O}{(g^{\\beta})}$\n",
    "\n",
    "- Complexity power factor ($\\beta$) = \n",
    "\n",
    "### LogCA parameters\n",
    "\n",
    "\n",
    "#### CPU + GPU model\n",
    "- Latency = \n",
    "- Overhead =\n",
    "- Computational index = \n",
    "- Acceleration =\n",
    "- Is latency dependent on granularity? - \n",
    "\n",
    "\n",
    "#### SoC model\n",
    "- Latency = \n",
    "- Overhead =\n",
    "- Computational index = \n",
    "- Acceleration =\n",
    "- Is latency dependent on granularity? - \n"
   ]
  },
  {
   "cell_type": "code",
   "execution_count": 2,
   "id": "86918ba9",
   "metadata": {},
   "outputs": [],
   "source": [
    "from ipynb.fs.defs.logca import *\n",
    "\n",
    "# CPU + GPU model from SKA-SDP memo 72\n",
    "params_cpu_gpu = Parameters(latency=0, \n",
    "                            overhead=0, \n",
    "                            computational_index=0, \n",
    "                            acceleration=0, \n",
    "                            complexity_power_factor=0, \n",
    "                            is_latency_granularity_depend=False)\n",
    "\n",
    "# Simple SoC model with integrated DSA\n",
    "params_simple_soc = Parameters(latency=0, \n",
    "                               overhead=0, \n",
    "                               computational_index=0, \n",
    "                               acceleration=0, \n",
    "                               complexity_power_factor=0, \n",
    "                               is_latency_granularity_depend=False)"
   ]
  }
 ],
 "metadata": {
  "kernelspec": {
   "display_name": "Python 3",
   "language": "python",
   "name": "python3"
  },
  "language_info": {
   "codemirror_mode": {
    "name": "ipython",
    "version": 3
   },
   "file_extension": ".py",
   "mimetype": "text/x-python",
   "name": "python",
   "nbconvert_exporter": "python",
   "pygments_lexer": "ipython3",
   "version": "3.6.1"
  }
 },
 "nbformat": 4,
 "nbformat_minor": 5
}
